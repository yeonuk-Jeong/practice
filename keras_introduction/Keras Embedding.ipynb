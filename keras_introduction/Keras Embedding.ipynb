{
 "cells": [
  {
   "cell_type": "code",
   "execution_count": 1,
   "metadata": {},
   "outputs": [],
   "source": [
    "# Ignore  the warnings\n",
    "import warnings\n",
    "warnings.filterwarnings('always')\n",
    "warnings.filterwarnings('ignore')\n",
    "\n",
    "# data visualisation and manipulation\n",
    "import numpy as np\n",
    "import pandas as pd\n",
    "import matplotlib.pyplot as plt\n",
    "from matplotlib import style\n",
    "import seaborn as sns\n",
    "#configure\n",
    "# sets matplotlib to inline and displays graphs below the corressponding cell.\n",
    "%matplotlib inline  \n",
    "style.use('fivethirtyeight')\n",
    "sns.set(style='whitegrid',color_codes=True)\n",
    "\n",
    "#nltk\n",
    "import nltk\n",
    "\n",
    "#stop-words\n",
    "from nltk.corpus import stopwords\n",
    "stop_words=set(nltk.corpus.stopwords.words('english'))\n",
    "\n",
    "# tokenizing\n",
    "from nltk import word_tokenize,sent_tokenize\n",
    "\n",
    "#keras\n",
    "\n",
    "from tensorflow.keras.preprocessing.text import one_hot,Tokenizer\n",
    "from tensorflow.keras.preprocessing.sequence import pad_sequences\n",
    "from tensorflow.keras.models import Sequential\n",
    "from tensorflow.keras.layers import Dense , Flatten ,Embedding,Input\n",
    "from tensorflow.keras.models import Model\n",
    "from tensorflow.keras.optimizers import Adam"
   ]
  },
  {
   "cell_type": "code",
   "execution_count": 7,
   "metadata": {},
   "outputs": [],
   "source": [
    "sample_text_1=\"bitty bought a bit of butter\"\n",
    "sample_text_2=\"but the bit of butter was a bit bitter\"\n",
    "sample_text_3=\"so she bought some better butter to make the bitter butter better\"\n",
    "\n",
    "corp=[sample_text_1,sample_text_2,sample_text_3]\n",
    "no_docs=len(corp)"
   ]
  },
  {
   "cell_type": "code",
   "execution_count": 8,
   "metadata": {},
   "outputs": [
    {
     "name": "stdout",
     "output_type": "stream",
     "text": [
      "The encoding for document 1  is :  [46, 30, 21, 21, 29, 14]\n",
      "The encoding for document 2  is :  [45, 15, 21, 29, 14, 10, 21, 21, 41]\n",
      "The encoding for document 3  is :  [6, 44, 30, 27, 46, 14, 24, 19, 15, 41, 14, 46]\n"
     ]
    }
   ],
   "source": [
    "vocab_size=50 \n",
    "encod_corp=[]\n",
    "for i,doc in enumerate(corp):\n",
    "    encod_corp.append(one_hot(doc,50))\n",
    "    print(\"The encoding for document\",i+1,\" is : \",one_hot(doc,50))"
   ]
  },
  {
   "cell_type": "code",
   "execution_count": 9,
   "metadata": {},
   "outputs": [
    {
     "name": "stdout",
     "output_type": "stream",
     "text": [
      "The maximum number of words in any document is :  12\n"
     ]
    }
   ],
   "source": [
    "# length of maximum document. will be nedded whenever create embeddings for the words\n",
    "maxlen=-1\n",
    "#nltk.download('punkt')\n",
    "for doc in corp:\n",
    "    tokens=nltk.word_tokenize(doc)\n",
    "    if(maxlen<len(tokens)):\n",
    "        maxlen=len(tokens)\n",
    "print(\"The maximum number of words in any document is : \",maxlen)"
   ]
  },
  {
   "cell_type": "code",
   "execution_count": 10,
   "metadata": {},
   "outputs": [
    {
     "name": "stdout",
     "output_type": "stream",
     "text": [
      "No of padded documents:  3\n"
     ]
    }
   ],
   "source": [
    "# now to create embeddings all of our docs need to be of same length. hence we can pad the docs with zeros.\n",
    "pad_corp=pad_sequences(encod_corp,maxlen=maxlen,padding='post',value=0.0)\n",
    "print(\"No of padded documents: \",len(pad_corp))"
   ]
  },
  {
   "cell_type": "code",
   "execution_count": 11,
   "metadata": {},
   "outputs": [
    {
     "name": "stdout",
     "output_type": "stream",
     "text": [
      "The padded encoding for document 1  is :  [46 30 21 21 29 14  0  0  0  0  0  0]\n",
      "The padded encoding for document 2  is :  [45 15 21 29 14 10 21 21 41  0  0  0]\n",
      "The padded encoding for document 3  is :  [ 6 44 30 27 46 14 24 19 15 41 14 46]\n"
     ]
    }
   ],
   "source": [
    "for i,doc in enumerate(pad_corp):\n",
    "     print(\"The padded encoding for document\",i+1,\" is : \",doc)"
   ]
  },
  {
   "cell_type": "code",
   "execution_count": 12,
   "metadata": {},
   "outputs": [],
   "source": [
    "# specifying the input shape\n",
    "input=Input(shape=(no_docs,maxlen),dtype='float64')"
   ]
  },
  {
   "cell_type": "code",
   "execution_count": 13,
   "metadata": {},
   "outputs": [],
   "source": [
    "'''\n",
    "shape of input. \n",
    "each document has 12 element or words which is the value of our maxlen variable.\n",
    "\n",
    "'''\n",
    "word_input=Input(shape=(maxlen,),dtype='float64')  \n",
    "\n",
    "# creating the embedding\n",
    "word_embedding=Embedding(input_dim=vocab_size,output_dim=8,input_length=maxlen)(word_input)\n",
    "\n",
    "word_vec=Flatten()(word_embedding) # flatten\n",
    "embed_model =Model([word_input],word_vec) # combining all into a Keras model"
   ]
  },
  {
   "cell_type": "code",
   "execution_count": 14,
   "metadata": {},
   "outputs": [],
   "source": [
    "embed_model.compile(optimizer=Adam(lr=1e-3),loss='binary_crossentropy',metrics=['acc']) \n",
    "\n",
    "# compiling the model. parameters can be tuned as always."
   ]
  },
  {
   "cell_type": "code",
   "execution_count": 15,
   "metadata": {},
   "outputs": [
    {
     "name": "stdout",
     "output_type": "stream",
     "text": [
      "Model: \"model\"\n",
      "_________________________________________________________________\n",
      "Layer (type)                 Output Shape              Param #   \n",
      "=================================================================\n",
      "input_2 (InputLayer)         [(None, 12)]              0         \n",
      "_________________________________________________________________\n",
      "embedding (Embedding)        (None, 12, 8)             400       \n",
      "_________________________________________________________________\n",
      "flatten (Flatten)            (None, 96)                0         \n",
      "=================================================================\n",
      "Total params: 400\n",
      "Trainable params: 400\n",
      "Non-trainable params: 0\n",
      "_________________________________________________________________\n",
      "None\n"
     ]
    }
   ],
   "source": [
    "print(embed_model.summary()) # summary of the model"
   ]
  },
  {
   "cell_type": "code",
   "execution_count": 16,
   "metadata": {},
   "outputs": [],
   "source": [
    "embeddings=embed_model.predict(pad_corp) # finally getting the embeddings."
   ]
  },
  {
   "cell_type": "code",
   "execution_count": 17,
   "metadata": {},
   "outputs": [
    {
     "name": "stdout",
     "output_type": "stream",
     "text": [
      "Shape of embeddings :  (3, 96)\n",
      "[-0.04831005  0.00818304 -0.01519667  0.00417691  0.0302623   0.03631613\n",
      " -0.037296   -0.03661499  0.02009379  0.04430156 -0.00048839 -0.01056299\n",
      " -0.02379319  0.03943712  0.00181495 -0.00461334  0.01345823  0.04482469\n",
      "  0.01656128 -0.03393574  0.03245096 -0.0285756   0.01699558  0.04166646\n",
      "  0.01345823  0.04482469  0.01656128 -0.03393574  0.03245096 -0.0285756\n",
      "  0.01699558  0.04166646 -0.00875279 -0.01546627  0.04310519 -0.01682319\n",
      " -0.04134415  0.00662705 -0.04181617 -0.02410871 -0.00555418 -0.03757465\n",
      "  0.02760709 -0.04612336  0.01748511  0.03318616  0.01062608  0.02237599\n",
      " -0.00038352 -0.00951105 -0.02464424 -0.0131023  -0.00691489 -0.00609851\n",
      "  0.04988987 -0.04905727 -0.00038352 -0.00951105 -0.02464424 -0.0131023\n",
      " -0.00691489 -0.00609851  0.04988987 -0.04905727 -0.00038352 -0.00951105\n",
      " -0.02464424 -0.0131023  -0.00691489 -0.00609851  0.04988987 -0.04905727\n",
      " -0.00038352 -0.00951105 -0.02464424 -0.0131023  -0.00691489 -0.00609851\n",
      "  0.04988987 -0.04905727 -0.00038352 -0.00951105 -0.02464424 -0.0131023\n",
      " -0.00691489 -0.00609851  0.04988987 -0.04905727 -0.00038352 -0.00951105\n",
      " -0.02464424 -0.0131023  -0.00691489 -0.00609851  0.04988987 -0.04905727]\n"
     ]
    }
   ],
   "source": [
    "print(\"Shape of embeddings : \",embeddings.shape)\n",
    "print(embeddings[0])"
   ]
  },
  {
   "cell_type": "code",
   "execution_count": 18,
   "metadata": {},
   "outputs": [
    {
     "name": "stdout",
     "output_type": "stream",
     "text": [
      "Shape of embeddings :  (3, 12, 8)\n",
      "[[[-0.04831005  0.00818304 -0.01519667  0.00417691  0.0302623\n",
      "    0.03631613 -0.037296   -0.03661499]\n",
      "  [ 0.02009379  0.04430156 -0.00048839 -0.01056299 -0.02379319\n",
      "    0.03943712  0.00181495 -0.00461334]\n",
      "  [ 0.01345823  0.04482469  0.01656128 -0.03393574  0.03245096\n",
      "   -0.0285756   0.01699558  0.04166646]\n",
      "  [ 0.01345823  0.04482469  0.01656128 -0.03393574  0.03245096\n",
      "   -0.0285756   0.01699558  0.04166646]\n",
      "  [-0.00875279 -0.01546627  0.04310519 -0.01682319 -0.04134415\n",
      "    0.00662705 -0.04181617 -0.02410871]\n",
      "  [-0.00555418 -0.03757465  0.02760709 -0.04612336  0.01748511\n",
      "    0.03318616  0.01062608  0.02237599]\n",
      "  [-0.00038352 -0.00951105 -0.02464424 -0.0131023  -0.00691489\n",
      "   -0.00609851  0.04988987 -0.04905727]\n",
      "  [-0.00038352 -0.00951105 -0.02464424 -0.0131023  -0.00691489\n",
      "   -0.00609851  0.04988987 -0.04905727]\n",
      "  [-0.00038352 -0.00951105 -0.02464424 -0.0131023  -0.00691489\n",
      "   -0.00609851  0.04988987 -0.04905727]\n",
      "  [-0.00038352 -0.00951105 -0.02464424 -0.0131023  -0.00691489\n",
      "   -0.00609851  0.04988987 -0.04905727]\n",
      "  [-0.00038352 -0.00951105 -0.02464424 -0.0131023  -0.00691489\n",
      "   -0.00609851  0.04988987 -0.04905727]\n",
      "  [-0.00038352 -0.00951105 -0.02464424 -0.0131023  -0.00691489\n",
      "   -0.00609851  0.04988987 -0.04905727]]\n",
      "\n",
      " [[-0.04555266  0.02538111  0.03056966 -0.03798915 -0.02810314\n",
      "   -0.04469669  0.03972392  0.00069935]\n",
      "  [-0.00814592 -0.04364802  0.0405555  -0.03463357  0.03265626\n",
      "    0.01445581 -0.01282889  0.03828812]\n",
      "  [ 0.01345823  0.04482469  0.01656128 -0.03393574  0.03245096\n",
      "   -0.0285756   0.01699558  0.04166646]\n",
      "  [-0.00875279 -0.01546627  0.04310519 -0.01682319 -0.04134415\n",
      "    0.00662705 -0.04181617 -0.02410871]\n",
      "  [-0.00555418 -0.03757465  0.02760709 -0.04612336  0.01748511\n",
      "    0.03318616  0.01062608  0.02237599]\n",
      "  [-0.02605205 -0.03540181 -0.04464874  0.04447046 -0.04770887\n",
      "    0.04607855  0.00850385 -0.00968643]\n",
      "  [ 0.01345823  0.04482469  0.01656128 -0.03393574  0.03245096\n",
      "   -0.0285756   0.01699558  0.04166646]\n",
      "  [ 0.01345823  0.04482469  0.01656128 -0.03393574  0.03245096\n",
      "   -0.0285756   0.01699558  0.04166646]\n",
      "  [ 0.00779159  0.02618427  0.02446084  0.02400333 -0.00095176\n",
      "    0.02766137 -0.03162291  0.00133034]\n",
      "  [-0.00038352 -0.00951105 -0.02464424 -0.0131023  -0.00691489\n",
      "   -0.00609851  0.04988987 -0.04905727]\n",
      "  [-0.00038352 -0.00951105 -0.02464424 -0.0131023  -0.00691489\n",
      "   -0.00609851  0.04988987 -0.04905727]\n",
      "  [-0.00038352 -0.00951105 -0.02464424 -0.0131023  -0.00691489\n",
      "   -0.00609851  0.04988987 -0.04905727]]\n",
      "\n",
      " [[-0.02648293 -0.0078451  -0.00224638 -0.01419506  0.04179212\n",
      "    0.03224934 -0.03995641 -0.02330227]\n",
      "  [ 0.01117973  0.00938356  0.02756068  0.00349129  0.02208693\n",
      "    0.02232324 -0.02968005  0.04561485]\n",
      "  [ 0.02009379  0.04430156 -0.00048839 -0.01056299 -0.02379319\n",
      "    0.03943712  0.00181495 -0.00461334]\n",
      "  [ 0.02600738 -0.0436936   0.00587447 -0.01018222 -0.043699\n",
      "    0.03892687 -0.01609244 -0.04067349]\n",
      "  [-0.04831005  0.00818304 -0.01519667  0.00417691  0.0302623\n",
      "    0.03631613 -0.037296   -0.03661499]\n",
      "  [-0.00555418 -0.03757465  0.02760709 -0.04612336  0.01748511\n",
      "    0.03318616  0.01062608  0.02237599]\n",
      "  [-0.04264791  0.03169191 -0.00976934 -0.006454   -0.03656728\n",
      "   -0.04293107 -0.00958812  0.04431434]\n",
      "  [ 0.016354    0.03392099  0.03399385  0.01027528 -0.02996162\n",
      "    0.00962076  0.03780572  0.02601178]\n",
      "  [-0.00814592 -0.04364802  0.0405555  -0.03463357  0.03265626\n",
      "    0.01445581 -0.01282889  0.03828812]\n",
      "  [ 0.00779159  0.02618427  0.02446084  0.02400333 -0.00095176\n",
      "    0.02766137 -0.03162291  0.00133034]\n",
      "  [-0.00555418 -0.03757465  0.02760709 -0.04612336  0.01748511\n",
      "    0.03318616  0.01062608  0.02237599]\n",
      "  [-0.04831005  0.00818304 -0.01519667  0.00417691  0.0302623\n",
      "    0.03631613 -0.037296   -0.03661499]]]\n"
     ]
    }
   ],
   "source": [
    "embeddings=embeddings.reshape(-1,maxlen,8)\n",
    "print(\"Shape of embeddings : \",embeddings.shape) \n",
    "print(embeddings)"
   ]
  },
  {
   "cell_type": "code",
   "execution_count": 19,
   "metadata": {},
   "outputs": [
    {
     "name": "stdout",
     "output_type": "stream",
     "text": [
      "The encoding for  1 th word in 1 th document is : \n",
      "\n",
      " [-0.04831005  0.00818304 -0.01519667  0.00417691  0.0302623   0.03631613\n",
      " -0.037296   -0.03661499]\n",
      "The encoding for  2 th word in 1 th document is : \n",
      "\n",
      " [ 0.02009379  0.04430156 -0.00048839 -0.01056299 -0.02379319  0.03943712\n",
      "  0.00181495 -0.00461334]\n",
      "The encoding for  3 th word in 1 th document is : \n",
      "\n",
      " [ 0.01345823  0.04482469  0.01656128 -0.03393574  0.03245096 -0.0285756\n",
      "  0.01699558  0.04166646]\n",
      "The encoding for  4 th word in 1 th document is : \n",
      "\n",
      " [ 0.01345823  0.04482469  0.01656128 -0.03393574  0.03245096 -0.0285756\n",
      "  0.01699558  0.04166646]\n",
      "The encoding for  5 th word in 1 th document is : \n",
      "\n",
      " [-0.00875279 -0.01546627  0.04310519 -0.01682319 -0.04134415  0.00662705\n",
      " -0.04181617 -0.02410871]\n",
      "The encoding for  6 th word in 1 th document is : \n",
      "\n",
      " [-0.00555418 -0.03757465  0.02760709 -0.04612336  0.01748511  0.03318616\n",
      "  0.01062608  0.02237599]\n",
      "The encoding for  7 th word in 1 th document is : \n",
      "\n",
      " [-0.00038352 -0.00951105 -0.02464424 -0.0131023  -0.00691489 -0.00609851\n",
      "  0.04988987 -0.04905727]\n",
      "The encoding for  8 th word in 1 th document is : \n",
      "\n",
      " [-0.00038352 -0.00951105 -0.02464424 -0.0131023  -0.00691489 -0.00609851\n",
      "  0.04988987 -0.04905727]\n",
      "The encoding for  9 th word in 1 th document is : \n",
      "\n",
      " [-0.00038352 -0.00951105 -0.02464424 -0.0131023  -0.00691489 -0.00609851\n",
      "  0.04988987 -0.04905727]\n",
      "The encoding for  10 th word in 1 th document is : \n",
      "\n",
      " [-0.00038352 -0.00951105 -0.02464424 -0.0131023  -0.00691489 -0.00609851\n",
      "  0.04988987 -0.04905727]\n",
      "The encoding for  11 th word in 1 th document is : \n",
      "\n",
      " [-0.00038352 -0.00951105 -0.02464424 -0.0131023  -0.00691489 -0.00609851\n",
      "  0.04988987 -0.04905727]\n",
      "The encoding for  12 th word in 1 th document is : \n",
      "\n",
      " [-0.00038352 -0.00951105 -0.02464424 -0.0131023  -0.00691489 -0.00609851\n",
      "  0.04988987 -0.04905727]\n",
      "The encoding for  1 th word in 2 th document is : \n",
      "\n",
      " [-0.04555266  0.02538111  0.03056966 -0.03798915 -0.02810314 -0.04469669\n",
      "  0.03972392  0.00069935]\n",
      "The encoding for  2 th word in 2 th document is : \n",
      "\n",
      " [-0.00814592 -0.04364802  0.0405555  -0.03463357  0.03265626  0.01445581\n",
      " -0.01282889  0.03828812]\n",
      "The encoding for  3 th word in 2 th document is : \n",
      "\n",
      " [ 0.01345823  0.04482469  0.01656128 -0.03393574  0.03245096 -0.0285756\n",
      "  0.01699558  0.04166646]\n",
      "The encoding for  4 th word in 2 th document is : \n",
      "\n",
      " [-0.00875279 -0.01546627  0.04310519 -0.01682319 -0.04134415  0.00662705\n",
      " -0.04181617 -0.02410871]\n",
      "The encoding for  5 th word in 2 th document is : \n",
      "\n",
      " [-0.00555418 -0.03757465  0.02760709 -0.04612336  0.01748511  0.03318616\n",
      "  0.01062608  0.02237599]\n",
      "The encoding for  6 th word in 2 th document is : \n",
      "\n",
      " [-0.02605205 -0.03540181 -0.04464874  0.04447046 -0.04770887  0.04607855\n",
      "  0.00850385 -0.00968643]\n",
      "The encoding for  7 th word in 2 th document is : \n",
      "\n",
      " [ 0.01345823  0.04482469  0.01656128 -0.03393574  0.03245096 -0.0285756\n",
      "  0.01699558  0.04166646]\n",
      "The encoding for  8 th word in 2 th document is : \n",
      "\n",
      " [ 0.01345823  0.04482469  0.01656128 -0.03393574  0.03245096 -0.0285756\n",
      "  0.01699558  0.04166646]\n",
      "The encoding for  9 th word in 2 th document is : \n",
      "\n",
      " [ 0.00779159  0.02618427  0.02446084  0.02400333 -0.00095176  0.02766137\n",
      " -0.03162291  0.00133034]\n",
      "The encoding for  10 th word in 2 th document is : \n",
      "\n",
      " [-0.00038352 -0.00951105 -0.02464424 -0.0131023  -0.00691489 -0.00609851\n",
      "  0.04988987 -0.04905727]\n",
      "The encoding for  11 th word in 2 th document is : \n",
      "\n",
      " [-0.00038352 -0.00951105 -0.02464424 -0.0131023  -0.00691489 -0.00609851\n",
      "  0.04988987 -0.04905727]\n",
      "The encoding for  12 th word in 2 th document is : \n",
      "\n",
      " [-0.00038352 -0.00951105 -0.02464424 -0.0131023  -0.00691489 -0.00609851\n",
      "  0.04988987 -0.04905727]\n",
      "The encoding for  1 th word in 3 th document is : \n",
      "\n",
      " [-0.02648293 -0.0078451  -0.00224638 -0.01419506  0.04179212  0.03224934\n",
      " -0.03995641 -0.02330227]\n",
      "The encoding for  2 th word in 3 th document is : \n",
      "\n",
      " [ 0.01117973  0.00938356  0.02756068  0.00349129  0.02208693  0.02232324\n",
      " -0.02968005  0.04561485]\n",
      "The encoding for  3 th word in 3 th document is : \n",
      "\n",
      " [ 0.02009379  0.04430156 -0.00048839 -0.01056299 -0.02379319  0.03943712\n",
      "  0.00181495 -0.00461334]\n",
      "The encoding for  4 th word in 3 th document is : \n",
      "\n",
      " [ 0.02600738 -0.0436936   0.00587447 -0.01018222 -0.043699    0.03892687\n",
      " -0.01609244 -0.04067349]\n",
      "The encoding for  5 th word in 3 th document is : \n",
      "\n",
      " [-0.04831005  0.00818304 -0.01519667  0.00417691  0.0302623   0.03631613\n",
      " -0.037296   -0.03661499]\n",
      "The encoding for  6 th word in 3 th document is : \n",
      "\n",
      " [-0.00555418 -0.03757465  0.02760709 -0.04612336  0.01748511  0.03318616\n",
      "  0.01062608  0.02237599]\n",
      "The encoding for  7 th word in 3 th document is : \n",
      "\n",
      " [-0.04264791  0.03169191 -0.00976934 -0.006454   -0.03656728 -0.04293107\n",
      " -0.00958812  0.04431434]\n",
      "The encoding for  8 th word in 3 th document is : \n",
      "\n",
      " [ 0.016354    0.03392099  0.03399385  0.01027528 -0.02996162  0.00962076\n",
      "  0.03780572  0.02601178]\n",
      "The encoding for  9 th word in 3 th document is : \n",
      "\n",
      " [-0.00814592 -0.04364802  0.0405555  -0.03463357  0.03265626  0.01445581\n",
      " -0.01282889  0.03828812]\n",
      "The encoding for  10 th word in 3 th document is : \n",
      "\n",
      " [ 0.00779159  0.02618427  0.02446084  0.02400333 -0.00095176  0.02766137\n",
      " -0.03162291  0.00133034]\n",
      "The encoding for  11 th word in 3 th document is : \n",
      "\n",
      " [-0.00555418 -0.03757465  0.02760709 -0.04612336  0.01748511  0.03318616\n",
      "  0.01062608  0.02237599]\n",
      "The encoding for  12 th word in 3 th document is : \n",
      "\n",
      " [-0.04831005  0.00818304 -0.01519667  0.00417691  0.0302623   0.03631613\n",
      " -0.037296   -0.03661499]\n"
     ]
    }
   ],
   "source": [
    "for i,doc in enumerate(embeddings):\n",
    "    for j,word in enumerate(doc):\n",
    "        print(\"The encoding for \",j+1,\"th word\",\"in\",i+1,\"th document is : \\n\\n\",word)"
   ]
  },
  {
   "cell_type": "code",
   "execution_count": null,
   "metadata": {},
   "outputs": [],
   "source": []
  }
 ],
 "metadata": {
  "kernelspec": {
   "display_name": "Python 3",
   "language": "python",
   "name": "python3"
  },
  "language_info": {
   "codemirror_mode": {
    "name": "ipython",
    "version": 3
   },
   "file_extension": ".py",
   "mimetype": "text/x-python",
   "name": "python",
   "nbconvert_exporter": "python",
   "pygments_lexer": "ipython3",
   "version": "3.8.5"
  }
 },
 "nbformat": 4,
 "nbformat_minor": 4
}
